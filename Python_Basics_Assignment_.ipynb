{
  "nbformat": 4,
  "nbformat_minor": 0,
  "metadata": {
    "colab": {
      "provenance": []
    },
    "kernelspec": {
      "name": "python3",
      "display_name": "Python 3"
    },
    "language_info": {
      "name": "python"
    }
  },
  "cells": [
    {
      "cell_type": "code",
      "execution_count": null,
      "metadata": {
        "id": "VgZzkjlbFAGS"
      },
      "outputs": [],
      "source": []
    },
    {
      "cell_type": "markdown",
      "source": [
        "#PYTHON BASICS"
      ],
      "metadata": {
        "id": "0-ZUzbTFFBL6"
      }
    },
    {
      "cell_type": "markdown",
      "source": [
        " 1. What is python , why it is popular ?\n",
        "    - Python is both compield and interepreted , object - oriented , high level programming language with dynamic semanantics.\n",
        "    - Python is general purpose programming language .\n",
        "    - It was developed by Guido Van Rossum in the year 1991.\n",
        "\n",
        "    Python is popular because >>\n",
        "     \n",
        "     - Python is easy to learn it has simple readable syntax.\n",
        "     - It is beginer freindly.\n",
        "     - It's open source - you can download the source code , and use it however you want.\n",
        "     - versitality - Python is genral purpose programming language but can be used to creat different programmes.\n",
        "     - It is cross plat-form language - it can run the same code on any operating system with python interpreter.\n",
        "     - It is widely used in industries.\n",
        "     - It has lots of libraries.\n",
        "     - It has huge active community.\n",
        "\n"
      ],
      "metadata": {
        "id": "2azzTg61FNfW"
      }
    },
    {
      "cell_type": "markdown",
      "source": [
        "2. What is an interpreter in python ?\n",
        "  - A python interpreter is a computer programme that reads python code and execute it line by line .\n",
        "  - The interpreter reads the code and then it translates it into machine readable byte code , and then it executes the byte code."
      ],
      "metadata": {
        "id": "r4nrRwkcKoH8"
      }
    },
    {
      "cell_type": "markdown",
      "source": [
        " 3. What are pre-defined keywords in python ?\n",
        "   - Pre-defined keywords are the reserved words whose meaning is already defined in the python interpreter.\n",
        "   - They hold a special meaning and have specific purpose in python.\n",
        "   - They are case-sensitive. And we can not use them as a variable name.\n",
        "   \n",
        "     Some examples of pre-defined keywords in python are >>\n",
        "     - (if , else , break , print , def , class , lambda , while , try , etc)\n"
      ],
      "metadata": {
        "id": "5Waog83zRDko"
      }
    },
    {
      "cell_type": "markdown",
      "source": [
        " 4. Can keywords be used as variable names ?\n",
        "  - No, keywords can not be used as variable names."
      ],
      "metadata": {
        "id": "FvzTWCzlTn8E"
      }
    },
    {
      "cell_type": "markdown",
      "source": [
        " 5. What is mutability in python ?\n",
        "  - Mutable objects in python are those objects which can be changed or modified after they created.\n",
        "  - Example of mutable object in python are - list and dictionaries"
      ],
      "metadata": {
        "id": "QVWl-X8TUTws"
      }
    },
    {
      "cell_type": "markdown",
      "source": [
        " 6. Why are lists mutable , but tuples are immutable ?\n",
        "  - lists are mutable because the data stored inside the list can be updated or modified .\n",
        "  - tuples are immutable because data can not be changed or updated.\n"
      ],
      "metadata": {
        "id": "qUtuLhrDWXJG"
      }
    },
    {
      "cell_type": "markdown",
      "source": [
        "7. What is the difference between \"==\" and \"is\" operator in python ?\n",
        " - The \"==\"operator is known as the equality operator.\n",
        " - The \"==\"operator helps us compare the equality of objects.\n",
        " - We use the \"==\" operator in python when the values of both the operands are very much equal.thus, the condition would become true.\n",
        "\n",
        "\n",
        " - The \"is\" operator is known as identity operator.\n",
        " - The \"is\" operator helps us check whether different variables points towards a similar object in the memory.\n",
        " - An \"is\" operator would evaluate to true whenever the variables present on either side of an operator would point towards the very same objects. otherwise, it would give us a false evaluation.\n"
      ],
      "metadata": {
        "id": "6-jyYesHDpZL"
      }
    },
    {
      "cell_type": "markdown",
      "source": [
        " 8. What are the logical operators in python ?\n",
        "  - Logical operators are also called boolean operators.\n",
        "  - Logical operators are used to combine conditional statements\n",
        "  - There are three types of logical operators -\n",
        "\n",
        "  and : Returns true if both the operands are true.\n",
        "  - syntax x and  y\n",
        "  - Example x>5 and x>9\n",
        "\n",
        "  or : Returns true if either of the operands is true\n",
        "  - syntax x or y\n",
        "  - Example x>5 or x>9\n",
        "   \n",
        "  not : Returns true if the operand is false\n",
        "  - syntax not x\n",
        "  - Example not(x>5 and x>9)\n",
        "      \n"
      ],
      "metadata": {
        "id": "oDlL1qeTFNwF"
      }
    },
    {
      "cell_type": "markdown",
      "source": [
        "9. What is type casting in python ?\n",
        " - Type casting is a process in which we convert a literal of one data type to another data type.\n",
        " - There are two types of typecasting - 1) Implicit type casting , 2) Explicit type casting."
      ],
      "metadata": {
        "id": "CCbo719SJd36"
      }
    },
    {
      "cell_type": "markdown",
      "source": [
        "10. What is the difference between implicit and explicit type casting ?\n",
        " -  Implicit type casting - When various types of data are mixed together in the expression The compiler automatically performs the implicit type conversion.\n",
        " - In Implicit type casting , there is no loss of data.\n",
        "\n",
        "\n",
        " - Explicit type casting - The conversion of one data type into another data type , done via developer or programmer intervention or manually as per the requirement is known as explicit type conversion.\n"
      ],
      "metadata": {
        "id": "f-8I32BYM3lZ"
      }
    },
    {
      "cell_type": "markdown",
      "source": [
        "11. What is the purpose of conditional statements in python ?\n",
        " - Conditional Statements are statements in Python that provide a choice for the control flow based on a condition.\n",
        " -  They checks the value of a condition , and if the condition evaluates to true , then a certain block of code is executed.\n",
        "\n",
        "\n",
        "    - Types of conditional statements in python\n",
        "\n",
        "     *  if  \n",
        "     *  if - else\n",
        "     *  if - elif -else\n",
        "     *  nested - if - else\n",
        "\n"
      ],
      "metadata": {
        "id": "LeG99f1-aD9G"
      }
    },
    {
      "cell_type": "markdown",
      "source": [
        "12. How does the elif statement work ?\n",
        " - elif stands for \"else if\" in python . It is used in conditional statements to check for multiple conditions.\n",
        " - For example , if the first condition is false , it moves on to the next \"elif\" statement to check that if that condition is true . if none of the conditions are true, the code will execute the else statement.\n",
        "  \n",
        "   \n",
        "     -SYNTAX\n",
        "\n",
        "       if condition1:\n",
        "          # execute code if condition1 is true\n",
        "       if condition2:\n",
        "          # execute code if condition2 is true\n",
        "       else:\n",
        "          # execute code if all conditions are false"
      ],
      "metadata": {
        "id": "_hFhmIs9eAg_"
      }
    },
    {
      "cell_type": "markdown",
      "source": [
        "13. What is the difference between for and while loops ?\n",
        " - for loop - A for loop is a control flow statement that executes code for a predefined number of iteration.\n",
        " - A for loop is used for iterating over a sequence ( that is either a list , a tuple , a dictionary , a set or a string).\n",
        " - The keyword used in this control flow statement is \"for\" when the number of iterations is already know, the for loop is used\n",
        " -The initialization , condition checking , and iteration statements are written at the begining of the loop\n",
        " - It is used only when the number of iterations is known beforehand .\n",
        " - If the condition is not mentioned in the \"for\"loop , then the iterates the infinite number of times.\n",
        " - The initialization is done only once , and it is never repeated .\n",
        " - The iteration statement is written at the begining hence , it executes once all stetements in the loop have been executed .\n",
        "\n",
        "\n",
        "  --- while loop - A while loop that runs a single statement or a set of statements for a given true condition. this loop is represented by the keyword \"while\".\n",
        "  - The initialization and condition checking are done at the begining of the loop.\n",
        "  - It is used only when the number of iteration isn't known .\n",
        "  - If the condition is not mentioned in the \"while\" loop , it results in a compilation error.\n",
        "  - If the initialization is done when the condition is being checked, the initialization occours every time the loop is iterated through.\n",
        "  - The iteration statement can be written within any point inside the loop.   "
      ],
      "metadata": {
        "id": "3id-OeCVvbaZ"
      }
    },
    {
      "cell_type": "markdown",
      "source": [
        "14 . Describe a scenario where a while loop is more suitable than a for loop.\n",
        "- for loop is used when the number of iteration is known and in while loop execution is done until the statement in the program is proved wrong.\n",
        "- while loop is used when you don't know the number of iteration iterations or need to iterate over a collection.\n",
        "    \n",
        "    "
      ],
      "metadata": {
        "id": "JiDyRS88Us4B"
      }
    },
    {
      "cell_type": "markdown",
      "source": [
        "# Practicle Questions"
      ],
      "metadata": {
        "id": "eb77dH0ie06x"
      }
    },
    {
      "cell_type": "code",
      "source": [
        "#1 Write a program to print \"Hello,world!\"\"\n",
        "print(\"Hello,World!\")"
      ],
      "metadata": {
        "colab": {
          "base_uri": "https://localhost:8080/"
        },
        "id": "v8kYuzK6gh19",
        "outputId": "5819c8a5-b2af-4019-d49a-0ce0906c9c1e"
      },
      "execution_count": null,
      "outputs": [
        {
          "output_type": "stream",
          "name": "stdout",
          "text": [
            "Hello,World!\n"
          ]
        }
      ]
    },
    {
      "cell_type": "code",
      "source": [
        "#2 Write a python program that displays your name and age.\n",
        "name = \"Saiyed Parvez Hasan\"\n",
        "age = 24\n",
        "\n",
        "print(\"Name\",\"-\",name)\n",
        "print(\"Age\",\"-\",age)"
      ],
      "metadata": {
        "colab": {
          "base_uri": "https://localhost:8080/"
        },
        "id": "d1-dXycug9bt",
        "outputId": "9e7d5c0c-ed39-4701-ee87-d258d4d79c9d"
      },
      "execution_count": null,
      "outputs": [
        {
          "output_type": "stream",
          "name": "stdout",
          "text": [
            "Name - Saiyed Parvez Hasan\n",
            "Age - 24\n"
          ]
        }
      ]
    },
    {
      "cell_type": "code",
      "source": [
        "#3 Write code to print all the pre-defined keywords in python using the keyword library.\n",
        "import keyword\n",
        "print(keyword.kwlist)\n"
      ],
      "metadata": {
        "colab": {
          "base_uri": "https://localhost:8080/"
        },
        "id": "MWOMGzLwiU8D",
        "outputId": "c8bdfb44-0b12-4e2b-f55d-0bafd4ce5477"
      },
      "execution_count": null,
      "outputs": [
        {
          "output_type": "stream",
          "name": "stdout",
          "text": [
            "['False', 'None', 'True', 'and', 'as', 'assert', 'async', 'await', 'break', 'class', 'continue', 'def', 'del', 'elif', 'else', 'except', 'finally', 'for', 'from', 'global', 'if', 'import', 'in', 'is', 'lambda', 'nonlocal', 'not', 'or', 'pass', 'raise', 'return', 'try', 'while', 'with', 'yield']\n"
          ]
        }
      ]
    },
    {
      "cell_type": "code",
      "source": [
        "#4 Write a program that checks if a given word is a python keyword.\n",
        "import keyword\n",
        "\n",
        "word = input(\"Enter a word here:\")\n",
        "if keyword.iskeyword(word):\n",
        "  print(word , \"is a Python keyword\")\n",
        "else:\n",
        "  print(word , \"is not a Python keyword\")\n",
        "\n"
      ],
      "metadata": {
        "colab": {
          "base_uri": "https://localhost:8080/"
        },
        "id": "1k7abYqZkXR8",
        "outputId": "3ddf23f6-19e9-4bfa-97e2-107cee5c2bc1"
      },
      "execution_count": null,
      "outputs": [
        {
          "output_type": "stream",
          "name": "stdout",
          "text": [
            "Enter a word here:for\n",
            "for is a Python keyword\n"
          ]
        }
      ]
    },
    {
      "cell_type": "code",
      "source": [
        "#5 Create a list and tuple in python , and demonstrate how attempting to change an element works differently for each.\n",
        "\n",
        "#list\n",
        "Items_list = [\"Fruits\", 10 , \"Vegetables\", 5,\"Ice cream\",12]\n",
        "print(Items_list) #Original List\n",
        "\n",
        "#Modification in list\n",
        "Items_list[2]=\"Pulses\"\n",
        "print(\"Modified list-\",Items_list) #Modified List\n",
        "\n",
        "\n",
        "#tuple\n",
        "Items_tuple = (\"Fruits\",10,\"Vegetables\",5,\"Ice cream\",12)\n",
        "print(Items_tuple) #original tuple\n",
        "\n",
        "#Modification in tuple\n",
        "try:\n",
        "  Items_tuple[2]= \"Pulses\"\n",
        "  print(\"Modified tuple-\",Items_tuple) #trying to modify tuple\n",
        "except TypeError:\n",
        "  print(\"Tuples can not be modified\")\n",
        "\n",
        "\n"
      ],
      "metadata": {
        "colab": {
          "base_uri": "https://localhost:8080/"
        },
        "id": "aZqEL-BRmbne",
        "outputId": "30b738e4-4485-4deb-b91b-9593bcf61ded"
      },
      "execution_count": 1,
      "outputs": [
        {
          "output_type": "stream",
          "name": "stdout",
          "text": [
            "['Fruits', 10, 'Vegetables', 5, 'Ice cream', 12]\n",
            "Modified list- ['Fruits', 10, 'Pulses', 5, 'Ice cream', 12]\n",
            "('Fruits', 10, 'Vegetables', 5, 'Ice cream', 12)\n",
            "Tuples can not be modified\n"
          ]
        }
      ]
    },
    {
      "cell_type": "code",
      "source": [
        "#6&7 Write a function to demonstrate the behaviour of mutable and immutable arguments.\n",
        "def demonstrate_mutable_immutable():\n",
        "  # Immutable argument example\n",
        "    def modify_immutable(x):\n",
        "      print(\"Before modification (immutable)\",x)\n",
        "      x +=10\n",
        "      print(\"After modification(immutable)\", x)\n",
        "\n",
        "  # Mutable argument\n",
        "    def modify_mutable(lst):\n",
        "      print(\"Before Modification (mutable):\",lst)\n",
        "      lst.append(10) #modifes original list\n",
        "      print(\"After modification (mutable):\",lst)\n",
        "\n",
        "  # Immutable argument : integer\n",
        "    num = 5\n",
        "    print(\"\\n==Immutable example==\")\n",
        "    print(\"Original number:\", num)\n",
        "    modify_immutable(num)\n",
        "    print(\"Number after function call:\", num)\n",
        "\n",
        "  # Mutable arguments : list\n",
        "    numbers = [1,2,3]\n",
        "    print(\"\\n==Mutable example==\")\n",
        "    print(\"Original list:\",numbers)\n",
        "    modify_mutable(numbers)\n",
        "    print(\"list after fuctional call:\", numbers)\n",
        "\n",
        "demonstrate_mutable_immutable()\n",
        "\n"
      ],
      "metadata": {
        "id": "0J4oXmYunVMB",
        "colab": {
          "base_uri": "https://localhost:8080/"
        },
        "outputId": "181c73de-5ba1-4739-e384-96f329d70761"
      },
      "execution_count": 20,
      "outputs": [
        {
          "output_type": "stream",
          "name": "stdout",
          "text": [
            "\n",
            "==Immutable example==\n",
            "Original number: 5\n",
            "Before modification (immutable) 5\n",
            "After modification(immutable) 15\n",
            "Number after function call: 5\n",
            "\n",
            "==Mutable example==\n",
            "Original list: [1, 2, 3]\n",
            "Before Modification (mutable): [1, 2, 3]\n",
            "After modification (mutable): [1, 2, 3, 10]\n",
            "list after fuctional call: [1, 2, 3, 10]\n"
          ]
        }
      ]
    },
    {
      "cell_type": "code",
      "source": [
        "#8 Write a program to demonstrate the use of locical operators.\n",
        "a = 1\n",
        "b = 2\n",
        "c = 3\n",
        "\n",
        "\n",
        "#using \"and\" operator\n",
        "if a<b and b<c:\n",
        "  print(\"Both the conditions are True\")\n",
        "\n",
        "#using \"or\" operator\n",
        "if a>b or c>b:\n",
        "  print(\"Atlest one condition is true\")\n",
        "\n",
        "\n",
        "#using \"not\" operator\n",
        "if not (a>b):\n",
        "  print(\"The condition 'a > b' is False, so 'not (a > b)' is True\")"
      ],
      "metadata": {
        "colab": {
          "base_uri": "https://localhost:8080/"
        },
        "id": "ECFhMx2Yf7no",
        "outputId": "e8e0195e-7eb5-42f6-9fc8-74400cbe1d99"
      },
      "execution_count": null,
      "outputs": [
        {
          "output_type": "stream",
          "name": "stdout",
          "text": [
            "Both the conditions are True\n",
            "Atlest one condition is true\n",
            "The condition 'a > b' is False, so 'not (a > b)' is True\n"
          ]
        }
      ]
    },
    {
      "cell_type": "code",
      "source": [
        "#9 Write a python program to convert user input from string to integer,float,and boolean types.\n",
        "\n",
        "def convert_user_input():\n",
        "    user_input = input (\"Enter a value Here:\")\n",
        "\n",
        "  #convert to integer\n",
        "    try:\n",
        "      int_value = int(user_input)\n",
        "      print(\"Integer Conversion:\",int_value)\n",
        "    except ValueError:\n",
        "      print(\"Can not convert to integer\")\n",
        "\n",
        "  #convert to float\n",
        "    try:\n",
        "      float_value = float(user_input)\n",
        "      print(\"Float Conversion\",float_value)\n",
        "    except ValueError:\n",
        "      print(\"Can not convert to float\")\n",
        "\n",
        "  #convert to boolean\n",
        "    if user_input.strip().lower() in [\"0\", \"false\", \"\"]:\n",
        "        bool_value = False\n",
        "    else:\n",
        "      bool_value = True\n",
        "    print(\"Boolean Conversion\", bool_value)\n",
        "\n",
        "\n",
        "convert_user_input()\n",
        "\n",
        "\n"
      ],
      "metadata": {
        "colab": {
          "base_uri": "https://localhost:8080/"
        },
        "id": "kP0YhvyKl9j2",
        "outputId": "21397603-c5d4-4608-b008-52ba7cd9d6cd"
      },
      "execution_count": 14,
      "outputs": [
        {
          "output_type": "stream",
          "name": "stdout",
          "text": [
            "Enter a value Here:xyz\n",
            "Can not convert to integer\n",
            "Can not convert to float\n",
            "Boolean Conversion True\n"
          ]
        }
      ]
    },
    {
      "cell_type": "code",
      "source": [
        "#10 Write code to demonstrate type casting with list elements.\n",
        "def demonstrate_type_casting():\n",
        "    # Original list with mixed data types\n",
        "    my_list = [\"Parvez\", \"12\", \"True\", \"False\", \"99.50\"]\n",
        "    print(\"Original List:\", my_list)\n",
        "\n",
        "    # Cast elements to integer (if possible)\n",
        "    int_list = []\n",
        "    for item in my_list:\n",
        "        try:\n",
        "            int_list.append(int(float(item)))\n",
        "        except ValueError:\n",
        "            int_list.append(None)  # Use None if conversion fails\n",
        "    print(\"List with elements cast to integers (where possible):\", int_list)\n",
        "\n",
        "    # Cast elements to float\n",
        "    float_list = []\n",
        "    for item in my_list:\n",
        "        try:\n",
        "            float_list.append(float(item))\n",
        "        except ValueError:\n",
        "            float_list.append(None)\n",
        "    print(f\"List with elements cast to floats (where possible): {float_list}\")\n",
        "\n",
        "    # Cast elements to boolean\n",
        "    bool_list = []\n",
        "    for item in my_list:\n",
        "        # Convert string \"True\" or \"False\" (case-insensitive) to actual boolean\n",
        "        if item.strip().lower() == \"true\":\n",
        "            bool_list.append(True)\n",
        "        elif item.strip().lower() == \"false\":\n",
        "            bool_list.append(False)\n",
        "        else:\n",
        "            bool_list.append(None)\n",
        "    print(f\"List with elements cast to booleans (where possible): {bool_list}\")\n",
        "\n",
        "\n",
        "demonstrate_type_casting()\n",
        "\n",
        "\n",
        "\n"
      ],
      "metadata": {
        "colab": {
          "base_uri": "https://localhost:8080/"
        },
        "id": "AeiJCbwHtr1q",
        "outputId": "f34e24cf-ac5a-4711-f48c-d25fbf5da927"
      },
      "execution_count": 7,
      "outputs": [
        {
          "output_type": "stream",
          "name": "stdout",
          "text": [
            "Original List: ['Parvez', '12', 'True', 'False', '99.50']\n",
            "List with elements cast to integers (where possible): [None, 12, None, None, 99]\n",
            "List with elements cast to floats (where possible): [None, 12.0, None, None, 99.5]\n",
            "List with elements cast to booleans (where possible): [None, None, True, False, None]\n"
          ]
        }
      ]
    },
    {
      "cell_type": "code",
      "source": [
        "#11 Write a program that checks if a number is positive , negative, or zero\n",
        "num = float(input(\"Enter a number here:\"))\n",
        "\n",
        "if num > 0:\n",
        "  print(num,\"is Positive a Number\")\n",
        "elif num < 0:\n",
        "  print(num,\"is Negative a Number\")\n",
        "else:\n",
        "  print(\"Number is Zero\")\n",
        "\n",
        "\n"
      ],
      "metadata": {
        "colab": {
          "base_uri": "https://localhost:8080/"
        },
        "id": "lmprGhV3w-iy",
        "outputId": "00a82789-716d-4412-f8a9-26000e4a6f05"
      },
      "execution_count": null,
      "outputs": [
        {
          "output_type": "stream",
          "name": "stdout",
          "text": [
            "Enter a number here:5\n",
            "5.0 is Positive a Number\n"
          ]
        }
      ]
    },
    {
      "cell_type": "code",
      "source": [
        "#12 Write a for loop to print numbers from 1 to 10.\n",
        "for i in range (1,11):\n",
        "  print(i)"
      ],
      "metadata": {
        "colab": {
          "base_uri": "https://localhost:8080/"
        },
        "id": "ndstDve6waEn",
        "outputId": "455397c4-f0fe-4f0b-a419-0afcc98422d7"
      },
      "execution_count": null,
      "outputs": [
        {
          "output_type": "stream",
          "name": "stdout",
          "text": [
            "1\n",
            "2\n",
            "3\n",
            "4\n",
            "5\n",
            "6\n",
            "7\n",
            "8\n",
            "9\n",
            "10\n"
          ]
        }
      ]
    },
    {
      "cell_type": "code",
      "source": [
        "#13 Write a python program to find the sum of all even numbers between 1 and 50.\n",
        "sum = 0\n",
        "for i in range (1,51):\n",
        "  if i % 2 ==0:\n",
        "    sum += i\n",
        "\n",
        "print(\"sum of all even numbers between 1 and 50 is:\",sum)\n"
      ],
      "metadata": {
        "colab": {
          "base_uri": "https://localhost:8080/"
        },
        "id": "PYcca0RP1THS",
        "outputId": "cf7093f3-e653-4e1a-f063-61b9c43deaa0"
      },
      "execution_count": null,
      "outputs": [
        {
          "output_type": "stream",
          "name": "stdout",
          "text": [
            "sum of all even numbers between 1 and 50 is: 650\n"
          ]
        }
      ]
    },
    {
      "cell_type": "code",
      "source": [
        "#14 Write a program to reverse a string using a while loop.\n",
        "s = \"Parvez\"       #original string\n",
        "r_string = \"\"      #string to reverse\n",
        "index =len(s)-1\n",
        "while index >=0:   #reversing using while loop\n",
        "  r_string += s[index]\n",
        "  index -= 1\n",
        "\n",
        "print(r_string)"
      ],
      "metadata": {
        "colab": {
          "base_uri": "https://localhost:8080/"
        },
        "id": "Nez0Tb8Gi0JG",
        "outputId": "b5186ba3-ace4-40c6-c666-61bf050b2344"
      },
      "execution_count": null,
      "outputs": [
        {
          "output_type": "stream",
          "name": "stdout",
          "text": [
            "zevraP\n"
          ]
        }
      ]
    },
    {
      "cell_type": "code",
      "source": [
        "#15 Write a python program to calculate the factorial of number provided by the user using a while loop.\n",
        "num = int(input(\"Enter the Number Here :\"))\n",
        "fact = 1\n",
        "while num >0:\n",
        "  fact = fact*num\n",
        "  num = num -1\n",
        "\n",
        "print(fact)\n"
      ],
      "metadata": {
        "colab": {
          "base_uri": "https://localhost:8080/"
        },
        "id": "7hgPu-09lL7a",
        "outputId": "2d49a714-0800-48f8-ff2b-df127ad0a8be"
      },
      "execution_count": null,
      "outputs": [
        {
          "output_type": "stream",
          "name": "stdout",
          "text": [
            "Enter the Number Here :10\n",
            "3628800\n"
          ]
        }
      ]
    }
  ]
}